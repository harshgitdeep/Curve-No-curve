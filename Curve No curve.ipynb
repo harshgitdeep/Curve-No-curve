{
  "cells": [
    {
      "cell_type": "code",
      "execution_count": null,
      "id": "54217864",
      "metadata": {
        "colab": {
          "base_uri": "https://localhost:8080/"
        },
        "id": "54217864",
        "outputId": "785cb8c6-a5f3-414d-aaca-a74507305e71"
      },
      "outputs": [
        {
          "output_type": "stream",
          "name": "stdout",
          "text": [
            "Looking in indexes: https://pypi.org/simple, https://us-python.pkg.dev/colab-wheels/public/simple/\n",
            "Requirement already satisfied: ipython-autotime in /usr/local/lib/python3.7/dist-packages (0.3.1)\n",
            "Requirement already satisfied: ipython in /usr/local/lib/python3.7/dist-packages (from ipython-autotime) (7.9.0)\n",
            "Requirement already satisfied: prompt-toolkit<2.1.0,>=2.0.0 in /usr/local/lib/python3.7/dist-packages (from ipython->ipython-autotime) (2.0.10)\n",
            "Requirement already satisfied: setuptools>=18.5 in /usr/local/lib/python3.7/dist-packages (from ipython->ipython-autotime) (57.4.0)\n",
            "Requirement already satisfied: decorator in /usr/local/lib/python3.7/dist-packages (from ipython->ipython-autotime) (4.4.2)\n",
            "Requirement already satisfied: pickleshare in /usr/local/lib/python3.7/dist-packages (from ipython->ipython-autotime) (0.7.5)\n",
            "Requirement already satisfied: backcall in /usr/local/lib/python3.7/dist-packages (from ipython->ipython-autotime) (0.2.0)\n",
            "Requirement already satisfied: pexpect in /usr/local/lib/python3.7/dist-packages (from ipython->ipython-autotime) (4.8.0)\n",
            "Requirement already satisfied: jedi>=0.10 in /usr/local/lib/python3.7/dist-packages (from ipython->ipython-autotime) (0.18.1)\n",
            "Requirement already satisfied: traitlets>=4.2 in /usr/local/lib/python3.7/dist-packages (from ipython->ipython-autotime) (5.1.1)\n",
            "Requirement already satisfied: pygments in /usr/local/lib/python3.7/dist-packages (from ipython->ipython-autotime) (2.6.1)\n",
            "Requirement already satisfied: parso<0.9.0,>=0.8.0 in /usr/local/lib/python3.7/dist-packages (from jedi>=0.10->ipython->ipython-autotime) (0.8.3)\n",
            "Requirement already satisfied: six>=1.9.0 in /usr/local/lib/python3.7/dist-packages (from prompt-toolkit<2.1.0,>=2.0.0->ipython->ipython-autotime) (1.15.0)\n",
            "Requirement already satisfied: wcwidth in /usr/local/lib/python3.7/dist-packages (from prompt-toolkit<2.1.0,>=2.0.0->ipython->ipython-autotime) (0.2.5)\n",
            "Requirement already satisfied: ptyprocess>=0.5 in /usr/local/lib/python3.7/dist-packages (from pexpect->ipython->ipython-autotime) (0.7.0)\n",
            "The autotime extension is already loaded. To reload it, use:\n",
            "  %reload_ext autotime\n",
            "time: 4.49 s (started: 2022-09-20 00:34:36 +00:00)\n"
          ]
        }
      ],
      "source": [
        "!pip install ipython-autotime\n",
        "%load_ext autotime"
      ]
    },
    {
      "cell_type": "code",
      "execution_count": null,
      "id": "95eb765e",
      "metadata": {
        "colab": {
          "base_uri": "https://localhost:8080/"
        },
        "id": "95eb765e",
        "outputId": "d699dac7-0de2-4d8d-9902-44b5aa645ab1"
      },
      "outputs": [
        {
          "output_type": "stream",
          "name": "stdout",
          "text": [
            "mkdir: cannot create directory ‘images’: File exists\n",
            "time: 170 ms (started: 2022-09-20 00:34:43 +00:00)\n"
          ]
        }
      ],
      "source": [
        "mkdir images"
      ]
    },
    {
      "cell_type": "code",
      "execution_count": null,
      "id": "27590fd6",
      "metadata": {
        "colab": {
          "base_uri": "https://localhost:8080/"
        },
        "id": "27590fd6",
        "outputId": "f258b1bf-8096-4ddc-93c5-6144851c04d4"
      },
      "outputs": [
        {
          "output_type": "execute_result",
          "data": {
            "text/plain": [
              "2"
            ]
          },
          "metadata": {},
          "execution_count": 130
        },
        {
          "output_type": "stream",
          "name": "stdout",
          "text": [
            "time: 5.95 ms (started: 2022-09-20 00:34:45 +00:00)\n"
          ]
        }
      ],
      "source": [
        "import numpy as np\n",
        "a=np.array([[1,2,3,4,5],[4,5,6,7,8]])\n",
        "a.ndim"
      ]
    },
    {
      "cell_type": "code",
      "source": [
        "from google.colab import drive\n",
        "drive.mount('/content/drive')"
      ],
      "metadata": {
        "id": "v_5vmgdaIeVK",
        "colab": {
          "base_uri": "https://localhost:8080/"
        },
        "outputId": "b008648e-71b9-4884-b8ed-bbbe4b723362"
      },
      "id": "v_5vmgdaIeVK",
      "execution_count": null,
      "outputs": [
        {
          "output_type": "stream",
          "name": "stdout",
          "text": [
            "Drive already mounted at /content/drive; to attempt to forcibly remount, call drive.mount(\"/content/drive\", force_remount=True).\n",
            "time: 2.9 s (started: 2022-09-20 00:34:47 +00:00)\n"
          ]
        }
      ]
    },
    {
      "cell_type": "code",
      "execution_count": null,
      "id": "398fa52e",
      "metadata": {
        "colab": {
          "base_uri": "https://localhost:8080/"
        },
        "id": "398fa52e",
        "outputId": "eb747f68-2e58-477b-a7ca-052834d0cfdf"
      },
      "outputs": [
        {
          "output_type": "stream",
          "name": "stdout",
          "text": [
            "time: 28.5 s (started: 2022-09-20 00:34:52 +00:00)\n"
          ]
        }
      ],
      "source": [
        "import os\n",
        "import matplotlib.pyplot as plt\n",
        "import numpy as np\n",
        "from skimage.io import imread\n",
        "from skimage.transform import resize\n",
        "\n",
        "target=[]\n",
        "images=[]\n",
        "flat_data=[]\n",
        "DATADIR='/content/drive/MyDrive/Data set'\n",
        "CATEGORIES=['Curve_Images','No_Curve_Images']\n",
        "\n",
        "for category in CATEGORIES:\n",
        "    class_num=CATEGORIES.index(category)\n",
        "    path=os.path.join(DATADIR,category)\n",
        "    for img in os.listdir(path):\n",
        "      img_array = imread(os.path.join(path,img))\n",
        "#       print(img_array.shape)\n",
        "#       plt.imshow(img_array)\n",
        "#       break\n",
        "      img_resized=resize(img_array,(150,150,3))\n",
        "      flat_data.append(img_resized.flatten())\n",
        "      images.append(img_resized)\n",
        "      target.append(class_num)\n",
        "\n",
        "flat_data=np.array(flat_data) \n",
        "target=np.array(target)\n",
        "images=np.array(images)  "
      ]
    },
    {
      "cell_type": "code",
      "execution_count": null,
      "id": "083bd087",
      "metadata": {
        "id": "083bd087",
        "outputId": "224babf7-1d32-49af-d741-dd6e3c2d5a3f",
        "colab": {
          "base_uri": "https://localhost:8080/"
        }
      },
      "outputs": [
        {
          "output_type": "execute_result",
          "data": {
            "text/plain": [
              "67500"
            ]
          },
          "metadata": {},
          "execution_count": 133
        },
        {
          "output_type": "stream",
          "name": "stdout",
          "text": [
            "time: 4.36 ms (started: 2022-09-20 00:35:25 +00:00)\n"
          ]
        }
      ],
      "source": [
        "len(flat_data[0])"
      ]
    },
    {
      "cell_type": "code",
      "execution_count": null,
      "id": "375e755f",
      "metadata": {
        "id": "375e755f",
        "outputId": "1e6805dd-9dfe-47ce-db2a-967992065c82",
        "colab": {
          "base_uri": "https://localhost:8080/"
        }
      },
      "outputs": [
        {
          "output_type": "execute_result",
          "data": {
            "text/plain": [
              "array([0, 0, 0, ..., 1, 1, 1])"
            ]
          },
          "metadata": {},
          "execution_count": 134
        },
        {
          "output_type": "stream",
          "name": "stdout",
          "text": [
            "time: 4.32 ms (started: 2022-09-20 00:35:29 +00:00)\n"
          ]
        }
      ],
      "source": [
        "target"
      ]
    },
    {
      "cell_type": "code",
      "execution_count": null,
      "id": "01c139ca",
      "metadata": {
        "id": "01c139ca",
        "outputId": "102d626a-8dd7-47c9-dc38-18f7e2df2cba",
        "colab": {
          "base_uri": "https://localhost:8080/",
          "height": 301
        }
      },
      "outputs": [
        {
          "output_type": "execute_result",
          "data": {
            "text/plain": [
              "<BarContainer object of 2 artists>"
            ]
          },
          "metadata": {},
          "execution_count": 135
        },
        {
          "output_type": "display_data",
          "data": {
            "text/plain": [
              "<Figure size 432x288 with 1 Axes>"
            ],
            "image/png": "[encoded data removed]"
          },
          "metadata": {
            "needs_background": "light"
          }
        },
        {
          "output_type": "stream",
          "name": "stdout",
          "text": [
            "time: 137 ms (started: 2022-09-20 00:35:31 +00:00)\n"
          ]
        }
      ],
      "source": [
        "unique,count=np.unique(target,return_counts=True)\n",
        "plt.bar(CATEGORIES,count)"
      ]
    },
    {
      "cell_type": "code",
      "execution_count": null,
      "id": "de3db14c",
      "metadata": {
        "id": "de3db14c",
        "outputId": "42310e80-dc41-443f-8a89-2c25280167ac",
        "colab": {
          "base_uri": "https://localhost:8080/"
        }
      },
      "outputs": [
        {
          "output_type": "stream",
          "name": "stdout",
          "text": [
            "time: 149 ms (started: 2022-09-20 00:35:35 +00:00)\n"
          ]
        }
      ],
      "source": [
        "from sklearn.model_selection import train_test_split\n",
        "x_train,x_test,y_train,y_test=train_test_split(flat_data,target,\n",
        "                                               test_size=0.3,random_state=109)"
      ]
    },
    {
      "cell_type": "code",
      "execution_count": null,
      "id": "9c4076ee",
      "metadata": {
        "id": "9c4076ee",
        "outputId": "7f6ed87c-1eb3-4205-d4e7-f44653675bcf",
        "colab": {
          "base_uri": "https://localhost:8080/"
        }
      },
      "outputs": [
        {
          "output_type": "execute_result",
          "data": {
            "text/plain": [
              "SVC(probability=True)"
            ]
          },
          "metadata": {},
          "execution_count": 137
        },
        {
          "output_type": "stream",
          "name": "stdout",
          "text": [
            "time: 1min 51s (started: 2022-09-20 00:35:39 +00:00)\n"
          ]
        }
      ],
      "source": [
        "#from sklearn.model_selection import GridSearchCV\n",
        "from sklearn import svm\n",
        "#param_grid=[\n",
        "#    {'C':[1,10,100,1000],'kernel':['linear']},\n",
        "#    {'C':[1,10,100,1000],'gamma':[0.001,0.0001], 'kernel':['rbf']}\n",
        "  \n",
        "#]\n",
        "\n",
        "svc = svm.SVC(probability=True)\n",
        "#clf = GridSearchCV(svc,param_grid)\n",
        "svc.fit(x_train,y_train)"
      ]
    },
    {
      "cell_type": "code",
      "execution_count": null,
      "id": "6bc3a30e",
      "metadata": {
        "id": "6bc3a30e",
        "outputId": "c9d4ec9c-7621-41fe-ad15-db3178c9d94c",
        "colab": {
          "base_uri": "https://localhost:8080/"
        }
      },
      "outputs": [
        {
          "output_type": "execute_result",
          "data": {
            "text/plain": [
              "array([1, 0, 1, 0, 1, 0, 0, 1, 1, 0, 1, 1, 0, 1, 0, 1, 1, 0, 0, 1, 1, 1,\n",
              "       0, 1, 1, 1, 0, 0, 0, 0, 1, 1, 1, 0, 1, 0, 0, 0, 0, 1, 0, 1, 1, 0,\n",
              "       0, 0, 0, 0, 0, 0, 1, 0, 0, 0, 0, 0, 0, 1, 0, 0, 0, 0, 1, 1, 0, 1,\n",
              "       0, 0, 0, 0, 0, 1, 0, 0, 1, 1, 0, 0, 1, 0, 0, 1, 1, 0, 1, 0, 0, 0,\n",
              "       1, 1, 1, 1, 0, 1, 1, 1, 1, 0, 0, 0, 0, 1, 1, 0, 0, 1, 0, 0, 0, 0,\n",
              "       0, 0, 0, 1, 1, 0, 1, 0, 0, 0, 1, 1, 1, 0, 1, 1, 1, 0, 0, 1, 0, 0,\n",
              "       1, 1, 0, 0, 1, 0, 0, 1, 1, 0, 0, 0, 0, 0, 0, 1, 1, 0, 1, 1, 0, 1,\n",
              "       1, 0, 1, 0, 0, 1, 0, 1, 0, 1, 0, 0, 1, 1, 0, 0, 0, 0, 0, 1, 0, 1,\n",
              "       0, 1, 1, 0, 0, 0, 0, 1, 1, 0, 1, 1, 1, 0, 0, 1, 0, 0, 0, 1, 1, 1,\n",
              "       0, 1, 1, 0, 1, 1, 0, 1, 1, 1, 0, 0, 1, 1, 1, 1, 1, 1, 1, 1, 0, 1,\n",
              "       1, 0, 1, 0, 0, 1, 0, 1, 1, 0, 1, 1, 1, 0, 1, 1, 1, 1, 0, 0, 0, 1,\n",
              "       0, 1, 0, 0, 0, 1, 1, 1, 0, 0, 1, 1, 1, 0, 0, 1, 0, 1, 0, 0, 1, 0,\n",
              "       1, 1, 0, 0, 0, 1, 1, 0, 0, 1, 1, 0, 0, 1, 1, 1, 1, 0, 1, 1, 0, 1,\n",
              "       0, 1, 0, 1, 0, 1, 0, 0, 0, 1, 1, 1, 0, 1, 0, 1, 0, 0, 0, 0, 0, 0])"
            ]
          },
          "metadata": {},
          "execution_count": 138
        },
        {
          "output_type": "stream",
          "name": "stdout",
          "text": [
            "time: 20.8 s (started: 2022-09-20 00:37:36 +00:00)\n"
          ]
        }
      ],
      "source": [
        "y_pred=svc.predict(x_test)\n",
        "y_pred"
      ]
    },
    {
      "cell_type": "code",
      "execution_count": null,
      "id": "5b35e4cb",
      "metadata": {
        "id": "5b35e4cb",
        "outputId": "f4cc8d67-91e2-4cdb-e929-4e1be92fc83f",
        "colab": {
          "base_uri": "https://localhost:8080/"
        }
      },
      "outputs": [
        {
          "output_type": "execute_result",
          "data": {
            "text/plain": [
              "array([1, 0, 1, 0, 0, 0, 0, 1, 1, 0, 1, 0, 0, 1, 0, 1, 1, 1, 0, 1, 1, 1,\n",
              "       0, 1, 1, 0, 0, 0, 0, 0, 1, 1, 1, 0, 1, 0, 0, 0, 0, 1, 1, 0, 1, 0,\n",
              "       1, 0, 0, 0, 0, 0, 1, 1, 0, 1, 0, 0, 0, 1, 1, 0, 0, 0, 1, 1, 0, 1,\n",
              "       0, 0, 0, 0, 0, 1, 0, 0, 1, 1, 0, 0, 1, 0, 0, 1, 1, 0, 1, 0, 1, 1,\n",
              "       1, 1, 1, 1, 1, 1, 1, 1, 1, 1, 0, 0, 0, 1, 1, 0, 0, 1, 0, 0, 0, 0,\n",
              "       0, 0, 0, 1, 1, 0, 1, 0, 0, 0, 1, 0, 1, 0, 1, 1, 1, 0, 0, 1, 0, 0,\n",
              "       1, 1, 0, 0, 1, 0, 0, 1, 1, 1, 0, 0, 0, 0, 0, 1, 1, 0, 1, 1, 0, 1,\n",
              "       1, 0, 1, 1, 0, 1, 0, 1, 0, 1, 0, 0, 1, 1, 0, 0, 0, 0, 0, 1, 1, 1,\n",
              "       1, 1, 1, 0, 0, 0, 0, 1, 1, 0, 1, 1, 1, 0, 0, 1, 0, 0, 0, 1, 1, 1,\n",
              "       0, 1, 1, 0, 1, 1, 0, 1, 1, 1, 0, 1, 1, 1, 1, 1, 1, 1, 1, 1, 0, 1,\n",
              "       1, 0, 0, 0, 1, 1, 0, 1, 1, 1, 0, 1, 1, 0, 1, 1, 1, 1, 0, 0, 0, 1,\n",
              "       0, 1, 0, 0, 0, 1, 1, 0, 0, 0, 1, 1, 1, 0, 1, 1, 1, 1, 0, 0, 1, 0,\n",
              "       1, 1, 0, 0, 0, 1, 1, 0, 0, 1, 1, 0, 0, 1, 1, 1, 1, 0, 1, 1, 1, 1,\n",
              "       0, 1, 0, 0, 0, 1, 0, 0, 0, 1, 1, 1, 0, 1, 0, 1, 0, 0, 0, 0, 0, 1])"
            ]
          },
          "metadata": {},
          "execution_count": 139
        },
        {
          "output_type": "stream",
          "name": "stdout",
          "text": [
            "time: 6.4 ms (started: 2022-09-20 00:38:00 +00:00)\n"
          ]
        }
      ],
      "source": [
        "y_test"
      ]
    },
    {
      "cell_type": "code",
      "execution_count": null,
      "id": "6eff6ec1",
      "metadata": {
        "id": "6eff6ec1",
        "outputId": "df755d75-0247-42fd-a73f-eb49a8625419",
        "colab": {
          "base_uri": "https://localhost:8080/"
        }
      },
      "outputs": [
        {
          "output_type": "stream",
          "name": "stdout",
          "text": [
            "time: 638 µs (started: 2022-09-20 00:38:04 +00:00)\n"
          ]
        }
      ],
      "source": [
        "from sklearn.metrics import accuracy_score,confusion_matrix"
      ]
    },
    {
      "cell_type": "code",
      "execution_count": null,
      "id": "b4682190",
      "metadata": {
        "id": "b4682190",
        "outputId": "8d8a4e3c-809b-444c-c9b7-a1ee79064f48",
        "colab": {
          "base_uri": "https://localhost:8080/"
        }
      },
      "outputs": [
        {
          "output_type": "execute_result",
          "data": {
            "text/plain": [
              "0.9025974025974026"
            ]
          },
          "metadata": {},
          "execution_count": 141
        },
        {
          "output_type": "stream",
          "name": "stdout",
          "text": [
            "time: 5.39 ms (started: 2022-09-20 00:38:06 +00:00)\n"
          ]
        }
      ],
      "source": [
        "accuracy_score(y_pred,y_test)"
      ]
    },
    {
      "cell_type": "code",
      "execution_count": null,
      "id": "8da51ada",
      "metadata": {
        "id": "8da51ada",
        "outputId": "193709b8-eb6c-49f2-fc8c-42f5d9c8e5cb",
        "colab": {
          "base_uri": "https://localhost:8080/"
        }
      },
      "outputs": [
        {
          "output_type": "execute_result",
          "data": {
            "text/plain": [
              "array([[141,  21],\n",
              "       [  9, 137]])"
            ]
          },
          "metadata": {},
          "execution_count": 142
        },
        {
          "output_type": "stream",
          "name": "stdout",
          "text": [
            "time: 9.62 ms (started: 2022-09-20 00:38:19 +00:00)\n"
          ]
        }
      ],
      "source": [
        "confusion_matrix(y_pred,y_test)"
      ]
    },
    {
      "cell_type": "code",
      "execution_count": null,
      "id": "42c6dd15",
      "metadata": {
        "id": "42c6dd15",
        "outputId": "66af2fb8-29e5-4234-8165-189f1ac6ada9",
        "colab": {
          "base_uri": "https://localhost:8080/"
        }
      },
      "outputs": [
        {
          "output_type": "stream",
          "name": "stdout",
          "text": [
            "time: 1.18 s (started: 2022-09-20 00:38:21 +00:00)\n"
          ]
        }
      ],
      "source": [
        "import pickle\n",
        "pickle.dump(svc,open('img_model.p','wb'))"
      ]
    },
    {
      "cell_type": "code",
      "execution_count": null,
      "id": "ef1d25ad",
      "metadata": {
        "id": "ef1d25ad",
        "outputId": "a5878d75-36ce-42a3-9f18-27902cd385ce",
        "colab": {
          "base_uri": "https://localhost:8080/"
        }
      },
      "outputs": [
        {
          "output_type": "stream",
          "name": "stdout",
          "text": [
            "time: 155 ms (started: 2022-09-20 00:38:22 +00:00)\n"
          ]
        }
      ],
      "source": [
        "model=pickle.load(open('img_model.p','rb'))\n"
      ]
    },
    {
      "cell_type": "code",
      "execution_count": null,
      "id": "3719d636",
      "metadata": {
        "id": "3719d636",
        "outputId": "5875e29e-2fe8-4c0a-8cfe-0f013459bda6",
        "colab": {
          "base_uri": "https://localhost:8080/"
        }
      },
      "outputs": [
        {
          "output_type": "stream",
          "name": "stdout",
          "text": [
            "time: 610 µs (started: 2022-09-20 00:38:25 +00:00)\n"
          ]
        }
      ],
      "source": [
        "# import random\n",
        "# idx=random.randint(0,len(x_train))\n",
        "# plt.imshow(x_train[idx, :])"
      ]
    },
    {
      "cell_type": "code",
      "execution_count": null,
      "id": "91577893",
      "metadata": {
        "id": "91577893",
        "outputId": "7e528df7-b54f-43be-d2fe-40363384b1b1",
        "colab": {
          "base_uri": "https://localhost:8080/",
          "height": 321
        }
      },
      "outputs": [
        {
          "output_type": "stream",
          "name": "stdout",
          "text": [
            "(256, 256, 3)\n",
            "PREDICTED OUTPUT: Curve_Images\n"
          ]
        },
        {
          "output_type": "display_data",
          "data": {
            "text/plain": [
              "<Figure size 432x288 with 1 Axes>"
            ],
            "image/png": "[encoded data removed]"
          },
          "metadata": {
            "needs_background": "light"
          }
        },
        {
          "output_type": "stream",
          "name": "stdout",
          "text": [
            "time: 355 ms (started: 2022-09-20 00:40:02 +00:00)\n"
          ]
        }
      ],
      "source": [
        "flat_data=[]\n",
        "# url=input('Enter')\n",
        "img=imread(\"//content//drive//MyDrive//Data set//Curve_Images//FJI_AA_467_6_1_3.png\")\n",
        "img_resized=resize(img,(150,150,3))\n",
        "flat_data.append(img_resized.flatten())\n",
        "flat_data=np.array(flat_data)\n",
        "print(img.shape)\n",
        "plt.imshow(img_resized)\n",
        "y_out=model.predict(flat_data)\n",
        "y_out=CATEGORIES[y_out[0]]\n",
        "\n",
        "print(f'PREDICTED OUTPUT: {y_out}' )"
      ]
    },
    {
      "cell_type": "code",
      "execution_count": null,
      "id": "f13443f7",
      "metadata": {
        "id": "f13443f7"
      },
      "outputs": [],
      "source": []
    }
  ],
  "metadata": {
    "kernelspec": {
      "display_name": "Python 3 (ipykernel)",
      "language": "python",
      "name": "python3"
    },
    "language_info": {
      "codemirror_mode": {
        "name": "ipython",
        "version": 3
      },
      "file_extension": ".py",
      "mimetype": "text/x-python",
      "name": "python",
      "nbconvert_exporter": "python",
      "pygments_lexer": "ipython3",
      "version": "3.10.6"
    },
    "colab": {
      "provenance": []
    }
  },
  "nbformat": 4,
  "nbformat_minor": 5
}